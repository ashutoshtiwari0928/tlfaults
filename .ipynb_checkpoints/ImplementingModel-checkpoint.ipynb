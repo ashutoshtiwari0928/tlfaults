{
 "cells": [
  {
   "cell_type": "code",
   "execution_count": 1,
   "id": "e68baf16",
   "metadata": {},
   "outputs": [],
   "source": [
    "# Data Processing\n",
    "import pandas as pd\n",
    "import numpy as np\n",
    "# Modelling\n",
    "from sklearn.ensemble import RandomForestClassifier\n",
    "from sklearn.metrics import accuracy_score, confusion_matrix, precision_score, recall_score, ConfusionMatrixDisplay\n",
    "from sklearn.model_selection import RandomizedSearchCV, train_test_split\n",
    "from scipy.stats import randint\n",
    "# Tree Visualisation\n",
    "from sklearn.tree import export_graphviz\n",
    "from IPython.display import Image\n",
    "import graphviz\n",
    "import matplotlib.pyplot as plt"
   ]
  },
  {
   "cell_type": "code",
   "execution_count": 2,
   "id": "fbe47879",
   "metadata": {},
   "outputs": [],
   "source": [
    "df = pd.read_csv(\"OptimizedDataset.csv\")"
   ]
  },
  {
   "cell_type": "code",
   "execution_count": 3,
   "id": "c9e5169f",
   "metadata": {},
   "outputs": [],
   "source": [
    "df = df.dropna()"
   ]
  },
  {
   "cell_type": "code",
   "execution_count": 4,
   "id": "c19b38e7",
   "metadata": {},
   "outputs": [
    {
     "data": {
      "text/html": [
       "<div>\n",
       "<style scoped>\n",
       "    .dataframe tbody tr th:only-of-type {\n",
       "        vertical-align: middle;\n",
       "    }\n",
       "\n",
       "    .dataframe tbody tr th {\n",
       "        vertical-align: top;\n",
       "    }\n",
       "\n",
       "    .dataframe thead th {\n",
       "        text-align: right;\n",
       "    }\n",
       "</style>\n",
       "<table border=\"1\" class=\"dataframe\">\n",
       "  <thead>\n",
       "    <tr style=\"text-align: right;\">\n",
       "      <th></th>\n",
       "      <th>Number</th>\n",
       "      <th>IaL12</th>\n",
       "      <th>IbL12</th>\n",
       "      <th>IcL12</th>\n",
       "      <th>Ia13</th>\n",
       "      <th>Ib13</th>\n",
       "      <th>Ic13</th>\n",
       "      <th>Ia23</th>\n",
       "      <th>Ib23</th>\n",
       "      <th>Ic23</th>\n",
       "      <th>...</th>\n",
       "      <th>Vb25</th>\n",
       "      <th>Vc25</th>\n",
       "      <th>Va34</th>\n",
       "      <th>Vb34</th>\n",
       "      <th>Vc34</th>\n",
       "      <th>Va45</th>\n",
       "      <th>Vb45</th>\n",
       "      <th>Vc45</th>\n",
       "      <th>Type of Fault</th>\n",
       "      <th>Fault Location</th>\n",
       "    </tr>\n",
       "  </thead>\n",
       "  <tbody>\n",
       "    <tr>\n",
       "      <th>0</th>\n",
       "      <td>0.160758</td>\n",
       "      <td>-5492.28660</td>\n",
       "      <td>6258.3010</td>\n",
       "      <td>-767.07210</td>\n",
       "      <td>-6508.69200</td>\n",
       "      <td>8058.9500</td>\n",
       "      <td>-1550.25800</td>\n",
       "      <td>-2153.56000</td>\n",
       "      <td>3078.16770</td>\n",
       "      <td>-924.60767</td>\n",
       "      <td>...</td>\n",
       "      <td>7990.522000</td>\n",
       "      <td>-1876.353600</td>\n",
       "      <td>493.72815</td>\n",
       "      <td>-429.371280</td>\n",
       "      <td>-64.35689</td>\n",
       "      <td>-6.114168e+03</td>\n",
       "      <td>7990.522000</td>\n",
       "      <td>-1876.353600</td>\n",
       "      <td>No fault</td>\n",
       "      <td>No fault</td>\n",
       "    </tr>\n",
       "    <tr>\n",
       "      <th>1</th>\n",
       "      <td>0.505802</td>\n",
       "      <td>5485.93800</td>\n",
       "      <td>773.8655</td>\n",
       "      <td>-6259.81400</td>\n",
       "      <td>7211.04200</td>\n",
       "      <td>376.5860</td>\n",
       "      <td>-7587.62800</td>\n",
       "      <td>2840.45260</td>\n",
       "      <td>-223.27785</td>\n",
       "      <td>-2617.17480</td>\n",
       "      <td>...</td>\n",
       "      <td>0.158811</td>\n",
       "      <td>-7237.568400</td>\n",
       "      <td>-346.19644</td>\n",
       "      <td>-182.290310</td>\n",
       "      <td>528.48676</td>\n",
       "      <td>7.237410e+03</td>\n",
       "      <td>0.158811</td>\n",
       "      <td>-7237.568400</td>\n",
       "      <td>No fault</td>\n",
       "      <td>No fault</td>\n",
       "    </tr>\n",
       "    <tr>\n",
       "      <th>2</th>\n",
       "      <td>0.791913</td>\n",
       "      <td>32998.26600</td>\n",
       "      <td>-8657.6350</td>\n",
       "      <td>-24655.59800</td>\n",
       "      <td>-376.31598</td>\n",
       "      <td>7587.5034</td>\n",
       "      <td>-7211.18800</td>\n",
       "      <td>223.26718</td>\n",
       "      <td>2617.05880</td>\n",
       "      <td>-2840.32620</td>\n",
       "      <td>...</td>\n",
       "      <td>7237.398400</td>\n",
       "      <td>-7237.376500</td>\n",
       "      <td>182.31421</td>\n",
       "      <td>-528.501460</td>\n",
       "      <td>346.18732</td>\n",
       "      <td>-2.184740e-02</td>\n",
       "      <td>7237.398400</td>\n",
       "      <td>-7237.376500</td>\n",
       "      <td>No fault</td>\n",
       "      <td>No fault</td>\n",
       "    </tr>\n",
       "    <tr>\n",
       "      <th>3</th>\n",
       "      <td>0.413468</td>\n",
       "      <td>-6324.02000</td>\n",
       "      <td>938.6665</td>\n",
       "      <td>5385.61000</td>\n",
       "      <td>-8128.74900</td>\n",
       "      <td>1762.3964</td>\n",
       "      <td>6366.35250</td>\n",
       "      <td>-3095.16360</td>\n",
       "      <td>1000.79095</td>\n",
       "      <td>2094.37280</td>\n",
       "      <td>...</td>\n",
       "      <td>2081.242400</td>\n",
       "      <td>5968.902300</td>\n",
       "      <td>437.37125</td>\n",
       "      <td>50.849632</td>\n",
       "      <td>-488.22090</td>\n",
       "      <td>-8.050145e+03</td>\n",
       "      <td>2081.242400</td>\n",
       "      <td>5968.902300</td>\n",
       "      <td>No fault</td>\n",
       "      <td>No fault</td>\n",
       "    </tr>\n",
       "    <tr>\n",
       "      <th>4</th>\n",
       "      <td>0.983131</td>\n",
       "      <td>-386.44016</td>\n",
       "      <td>-5711.7837</td>\n",
       "      <td>6095.82200</td>\n",
       "      <td>-1069.32690</td>\n",
       "      <td>-6813.7330</td>\n",
       "      <td>7883.05960</td>\n",
       "      <td>-751.60190</td>\n",
       "      <td>-2281.43040</td>\n",
       "      <td>3033.03220</td>\n",
       "      <td>...</td>\n",
       "      <td>-6428.433000</td>\n",
       "      <td>7838.404000</td>\n",
       "      <td>-94.59090</td>\n",
       "      <td>504.986400</td>\n",
       "      <td>-410.39548</td>\n",
       "      <td>-1.409971e+03</td>\n",
       "      <td>-6428.433000</td>\n",
       "      <td>7838.404000</td>\n",
       "      <td>No fault</td>\n",
       "      <td>No fault</td>\n",
       "    </tr>\n",
       "    <tr>\n",
       "      <th>...</th>\n",
       "      <td>...</td>\n",
       "      <td>...</td>\n",
       "      <td>...</td>\n",
       "      <td>...</td>\n",
       "      <td>...</td>\n",
       "      <td>...</td>\n",
       "      <td>...</td>\n",
       "      <td>...</td>\n",
       "      <td>...</td>\n",
       "      <td>...</td>\n",
       "      <td>...</td>\n",
       "      <td>...</td>\n",
       "      <td>...</td>\n",
       "      <td>...</td>\n",
       "      <td>...</td>\n",
       "      <td>...</td>\n",
       "      <td>...</td>\n",
       "      <td>...</td>\n",
       "      <td>...</td>\n",
       "      <td>...</td>\n",
       "      <td>...</td>\n",
       "    </tr>\n",
       "    <tr>\n",
       "      <th>115780</th>\n",
       "      <td>0.017296</td>\n",
       "      <td>1743.21250</td>\n",
       "      <td>-6587.3420</td>\n",
       "      <td>4844.10350</td>\n",
       "      <td>1599.53530</td>\n",
       "      <td>-8075.5933</td>\n",
       "      <td>6476.05600</td>\n",
       "      <td>232.39720</td>\n",
       "      <td>-2844.58840</td>\n",
       "      <td>-21775.24000</td>\n",
       "      <td>...</td>\n",
       "      <td>-7762.812000</td>\n",
       "      <td>5340.156000</td>\n",
       "      <td>-252.71303</td>\n",
       "      <td>536.451660</td>\n",
       "      <td>4137.90300</td>\n",
       "      <td>1.200189e+03</td>\n",
       "      <td>-7762.812000</td>\n",
       "      <td>5340.156000</td>\n",
       "      <td>SLG</td>\n",
       "      <td>L13</td>\n",
       "    </tr>\n",
       "    <tr>\n",
       "      <th>115781</th>\n",
       "      <td>0.869536</td>\n",
       "      <td>6090.85550</td>\n",
       "      <td>-5713.7676</td>\n",
       "      <td>-377.25632</td>\n",
       "      <td>7344.29300</td>\n",
       "      <td>-7467.2150</td>\n",
       "      <td>122.92225</td>\n",
       "      <td>2509.43040</td>\n",
       "      <td>-2916.40380</td>\n",
       "      <td>406.97336</td>\n",
       "      <td>...</td>\n",
       "      <td>-7469.591300</td>\n",
       "      <td>488.412380</td>\n",
       "      <td>-522.14417</td>\n",
       "      <td>369.607060</td>\n",
       "      <td>152.53706</td>\n",
       "      <td>6.981179e+03</td>\n",
       "      <td>-7469.591300</td>\n",
       "      <td>488.412380</td>\n",
       "      <td>No fault</td>\n",
       "      <td>No fault</td>\n",
       "    </tr>\n",
       "    <tr>\n",
       "      <th>115782</th>\n",
       "      <td>0.144692</td>\n",
       "      <td>-6261.96700</td>\n",
       "      <td>5485.0835</td>\n",
       "      <td>776.88324</td>\n",
       "      <td>-7588.74500</td>\n",
       "      <td>7209.7397</td>\n",
       "      <td>379.00540</td>\n",
       "      <td>-2617.89090</td>\n",
       "      <td>2840.19530</td>\n",
       "      <td>-222.30463</td>\n",
       "      <td>...</td>\n",
       "      <td>7236.354500</td>\n",
       "      <td>2.593651</td>\n",
       "      <td>528.53906</td>\n",
       "      <td>-346.090730</td>\n",
       "      <td>-182.44836</td>\n",
       "      <td>-7.238948e+03</td>\n",
       "      <td>7236.354500</td>\n",
       "      <td>2.593651</td>\n",
       "      <td>No fault</td>\n",
       "      <td>No fault</td>\n",
       "    </tr>\n",
       "    <tr>\n",
       "      <th>115783</th>\n",
       "      <td>0.458580</td>\n",
       "      <td>565947.30000</td>\n",
       "      <td>-281701.4700</td>\n",
       "      <td>-284150.72000</td>\n",
       "      <td>-376.87310</td>\n",
       "      <td>7587.7534</td>\n",
       "      <td>-7210.88040</td>\n",
       "      <td>222.90591</td>\n",
       "      <td>2617.38550</td>\n",
       "      <td>-2840.29130</td>\n",
       "      <td>...</td>\n",
       "      <td>7237.626000</td>\n",
       "      <td>-7237.626000</td>\n",
       "      <td>182.33234</td>\n",
       "      <td>-528.555400</td>\n",
       "      <td>346.22293</td>\n",
       "      <td>-1.114766e-08</td>\n",
       "      <td>7237.626000</td>\n",
       "      <td>-7237.626000</td>\n",
       "      <td>No fault</td>\n",
       "      <td>No fault</td>\n",
       "    </tr>\n",
       "    <tr>\n",
       "      <th>115784</th>\n",
       "      <td>0.394691</td>\n",
       "      <td>-7013.56050</td>\n",
       "      <td>4498.4250</td>\n",
       "      <td>2515.33890</td>\n",
       "      <td>-7587.42600</td>\n",
       "      <td>7211.2780</td>\n",
       "      <td>376.14790</td>\n",
       "      <td>-2617.18500</td>\n",
       "      <td>2840.43070</td>\n",
       "      <td>-223.24551</td>\n",
       "      <td>...</td>\n",
       "      <td>7237.581000</td>\n",
       "      <td>0.025702</td>\n",
       "      <td>528.58185</td>\n",
       "      <td>-346.203060</td>\n",
       "      <td>-182.37883</td>\n",
       "      <td>-7.237607e+03</td>\n",
       "      <td>7237.581000</td>\n",
       "      <td>0.025702</td>\n",
       "      <td>No fault</td>\n",
       "      <td>No fault</td>\n",
       "    </tr>\n",
       "  </tbody>\n",
       "</table>\n",
       "<p>115785 rows × 45 columns</p>\n",
       "</div>"
      ],
      "text/plain": [
       "          Number         IaL12        IbL12         IcL12        Ia13  \\\n",
       "0       0.160758   -5492.28660    6258.3010    -767.07210 -6508.69200   \n",
       "1       0.505802    5485.93800     773.8655   -6259.81400  7211.04200   \n",
       "2       0.791913   32998.26600   -8657.6350  -24655.59800  -376.31598   \n",
       "3       0.413468   -6324.02000     938.6665    5385.61000 -8128.74900   \n",
       "4       0.983131    -386.44016   -5711.7837    6095.82200 -1069.32690   \n",
       "...          ...           ...          ...           ...         ...   \n",
       "115780  0.017296    1743.21250   -6587.3420    4844.10350  1599.53530   \n",
       "115781  0.869536    6090.85550   -5713.7676    -377.25632  7344.29300   \n",
       "115782  0.144692   -6261.96700    5485.0835     776.88324 -7588.74500   \n",
       "115783  0.458580  565947.30000 -281701.4700 -284150.72000  -376.87310   \n",
       "115784  0.394691   -7013.56050    4498.4250    2515.33890 -7587.42600   \n",
       "\n",
       "             Ib13        Ic13        Ia23        Ib23         Ic23  ...  \\\n",
       "0       8058.9500 -1550.25800 -2153.56000  3078.16770   -924.60767  ...   \n",
       "1        376.5860 -7587.62800  2840.45260  -223.27785  -2617.17480  ...   \n",
       "2       7587.5034 -7211.18800   223.26718  2617.05880  -2840.32620  ...   \n",
       "3       1762.3964  6366.35250 -3095.16360  1000.79095   2094.37280  ...   \n",
       "4      -6813.7330  7883.05960  -751.60190 -2281.43040   3033.03220  ...   \n",
       "...           ...         ...         ...         ...          ...  ...   \n",
       "115780 -8075.5933  6476.05600   232.39720 -2844.58840 -21775.24000  ...   \n",
       "115781 -7467.2150   122.92225  2509.43040 -2916.40380    406.97336  ...   \n",
       "115782  7209.7397   379.00540 -2617.89090  2840.19530   -222.30463  ...   \n",
       "115783  7587.7534 -7210.88040   222.90591  2617.38550  -2840.29130  ...   \n",
       "115784  7211.2780   376.14790 -2617.18500  2840.43070   -223.24551  ...   \n",
       "\n",
       "               Vb25         Vc25       Va34        Vb34        Vc34  \\\n",
       "0       7990.522000 -1876.353600  493.72815 -429.371280   -64.35689   \n",
       "1          0.158811 -7237.568400 -346.19644 -182.290310   528.48676   \n",
       "2       7237.398400 -7237.376500  182.31421 -528.501460   346.18732   \n",
       "3       2081.242400  5968.902300  437.37125   50.849632  -488.22090   \n",
       "4      -6428.433000  7838.404000  -94.59090  504.986400  -410.39548   \n",
       "...             ...          ...        ...         ...         ...   \n",
       "115780 -7762.812000  5340.156000 -252.71303  536.451660  4137.90300   \n",
       "115781 -7469.591300   488.412380 -522.14417  369.607060   152.53706   \n",
       "115782  7236.354500     2.593651  528.53906 -346.090730  -182.44836   \n",
       "115783  7237.626000 -7237.626000  182.33234 -528.555400   346.22293   \n",
       "115784  7237.581000     0.025702  528.58185 -346.203060  -182.37883   \n",
       "\n",
       "                Va45         Vb45         Vc45  Type of Fault  Fault Location  \n",
       "0      -6.114168e+03  7990.522000 -1876.353600       No fault        No fault  \n",
       "1       7.237410e+03     0.158811 -7237.568400       No fault        No fault  \n",
       "2      -2.184740e-02  7237.398400 -7237.376500       No fault        No fault  \n",
       "3      -8.050145e+03  2081.242400  5968.902300       No fault        No fault  \n",
       "4      -1.409971e+03 -6428.433000  7838.404000       No fault        No fault  \n",
       "...              ...          ...          ...            ...             ...  \n",
       "115780  1.200189e+03 -7762.812000  5340.156000            SLG             L13  \n",
       "115781  6.981179e+03 -7469.591300   488.412380       No fault        No fault  \n",
       "115782 -7.238948e+03  7236.354500     2.593651       No fault        No fault  \n",
       "115783 -1.114766e-08  7237.626000 -7237.626000       No fault        No fault  \n",
       "115784 -7.237607e+03  7237.581000     0.025702       No fault        No fault  \n",
       "\n",
       "[115785 rows x 45 columns]"
      ]
     },
     "execution_count": 4,
     "metadata": {},
     "output_type": "execute_result"
    }
   ],
   "source": [
    "df"
   ]
  },
  {
   "cell_type": "code",
   "execution_count": 5,
   "id": "170699bf",
   "metadata": {},
   "outputs": [
    {
     "data": {
      "text/plain": [
       "Number            False\n",
       "IaL12             False\n",
       "IbL12             False\n",
       "IcL12             False\n",
       "Ia13              False\n",
       "Ib13              False\n",
       "Ic13              False\n",
       "Ia23              False\n",
       "Ib23              False\n",
       "Ic23              False\n",
       "Ia24              False\n",
       "Ib24              False\n",
       "Ic24              False\n",
       "Ia25              False\n",
       "Ib25              False\n",
       "Ic25              False\n",
       "Ia34              False\n",
       "Ib34              False\n",
       "Ic34              False\n",
       "Ia45              False\n",
       "Ib45              False\n",
       "Ic45              False\n",
       "Va12              False\n",
       "Vb12              False\n",
       "Vc12              False\n",
       "Va13              False\n",
       "Vb13              False\n",
       "Vc13              False\n",
       "Va23              False\n",
       "Vb23              False\n",
       "Vc23              False\n",
       "Va24              False\n",
       "Vb24              False\n",
       "Vc24              False\n",
       "Va25              False\n",
       "Vb25              False\n",
       "Vc25              False\n",
       "Va34              False\n",
       "Vb34              False\n",
       "Vc34              False\n",
       "Va45              False\n",
       "Vb45              False\n",
       "Vc45              False\n",
       "Type of Fault     False\n",
       "Fault Location    False\n",
       "dtype: bool"
      ]
     },
     "execution_count": 5,
     "metadata": {},
     "output_type": "execute_result"
    }
   ],
   "source": [
    "df.isna().any()"
   ]
  },
  {
   "cell_type": "code",
   "execution_count": 6,
   "id": "fee7c5a0",
   "metadata": {},
   "outputs": [
    {
     "data": {
      "text/plain": [
       "(115785, 45)"
      ]
     },
     "execution_count": 6,
     "metadata": {},
     "output_type": "execute_result"
    }
   ],
   "source": [
    "df.shape"
   ]
  },
  {
   "cell_type": "code",
   "execution_count": 7,
   "id": "9283cb13",
   "metadata": {},
   "outputs": [
    {
     "name": "stdout",
     "output_type": "stream",
     "text": [
      "<class 'pandas.core.frame.DataFrame'>\n",
      "RangeIndex: 115785 entries, 0 to 115784\n",
      "Data columns (total 45 columns):\n",
      " #   Column          Non-Null Count   Dtype  \n",
      "---  ------          --------------   -----  \n",
      " 0   Number          115785 non-null  float64\n",
      " 1   IaL12           115785 non-null  float64\n",
      " 2   IbL12           115785 non-null  float64\n",
      " 3   IcL12           115785 non-null  float64\n",
      " 4   Ia13            115785 non-null  float64\n",
      " 5   Ib13            115785 non-null  float64\n",
      " 6   Ic13            115785 non-null  float64\n",
      " 7   Ia23            115785 non-null  float64\n",
      " 8   Ib23            115785 non-null  float64\n",
      " 9   Ic23            115785 non-null  float64\n",
      " 10  Ia24            115785 non-null  float64\n",
      " 11  Ib24            115785 non-null  float64\n",
      " 12  Ic24            115785 non-null  float64\n",
      " 13  Ia25            115785 non-null  float64\n",
      " 14  Ib25            115785 non-null  float64\n",
      " 15  Ic25            115785 non-null  float64\n",
      " 16  Ia34            115785 non-null  float64\n",
      " 17  Ib34            115785 non-null  float64\n",
      " 18  Ic34            115785 non-null  float64\n",
      " 19  Ia45            115785 non-null  float64\n",
      " 20  Ib45            115785 non-null  float64\n",
      " 21  Ic45            115785 non-null  float64\n",
      " 22  Va12            115785 non-null  float64\n",
      " 23  Vb12            115785 non-null  float64\n",
      " 24  Vc12            115785 non-null  float64\n",
      " 25  Va13            115785 non-null  float64\n",
      " 26  Vb13            115785 non-null  float64\n",
      " 27  Vc13            115785 non-null  float64\n",
      " 28  Va23            115785 non-null  float64\n",
      " 29  Vb23            115785 non-null  float64\n",
      " 30  Vc23            115785 non-null  float64\n",
      " 31  Va24            115785 non-null  float64\n",
      " 32  Vb24            115785 non-null  float64\n",
      " 33  Vc24            115785 non-null  float64\n",
      " 34  Va25            115785 non-null  float64\n",
      " 35  Vb25            115785 non-null  float64\n",
      " 36  Vc25            115785 non-null  float64\n",
      " 37  Va34            115785 non-null  float64\n",
      " 38  Vb34            115785 non-null  float64\n",
      " 39  Vc34            115785 non-null  float64\n",
      " 40  Va45            115785 non-null  float64\n",
      " 41  Vb45            115785 non-null  float64\n",
      " 42  Vc45            115785 non-null  float64\n",
      " 43  Type of Fault   115785 non-null  object \n",
      " 44  Fault Location  115785 non-null  object \n",
      "dtypes: float64(43), object(2)\n",
      "memory usage: 39.8+ MB\n"
     ]
    }
   ],
   "source": [
    "df.info()"
   ]
  },
  {
   "cell_type": "code",
   "execution_count": 84,
   "id": "796f48bf",
   "metadata": {},
   "outputs": [
    {
     "data": {
      "text/plain": [
       "Number            70118\n",
       "IaL12             78869\n",
       "IbL12             78863\n",
       "IcL12             78756\n",
       "Ia13              72547\n",
       "Ib13              72413\n",
       "Ic13              72437\n",
       "Ia23              77087\n",
       "Ib23              77176\n",
       "Ic23              77116\n",
       "Ia24              72839\n",
       "Ib24              72746\n",
       "Ic24              72725\n",
       "Ia25              75658\n",
       "Ib25              75711\n",
       "Ic25              75590\n",
       "Ia34              72839\n",
       "Ib34              72746\n",
       "Ic34              72725\n",
       "Ia45              75926\n",
       "Ib45              75842\n",
       "Ic45              75726\n",
       "Va12              72567\n",
       "Vb12              72447\n",
       "Vc12              72378\n",
       "Va13              71318\n",
       "Vb13              71334\n",
       "Vc13              71288\n",
       "Va23              71175\n",
       "Vb23              71004\n",
       "Vc23              71055\n",
       "Va24              78466\n",
       "Vb24              78339\n",
       "Vc24              78391\n",
       "Va25              72567\n",
       "Vb25              72447\n",
       "Vc25              72378\n",
       "Va34              78702\n",
       "Vb34              78796\n",
       "Vc34              78707\n",
       "Va45              72567\n",
       "Vb45              72447\n",
       "Vc45              72378\n",
       "Type of Fault         7\n",
       "Fault Location        8\n",
       "dtype: int64"
      ]
     },
     "execution_count": 84,
     "metadata": {},
     "output_type": "execute_result"
    }
   ],
   "source": [
    "df.nunique()"
   ]
  },
  {
   "cell_type": "code",
   "execution_count": 85,
   "id": "27704ff8",
   "metadata": {},
   "outputs": [
    {
     "data": {
      "text/plain": [
       "array(['No fault', 'L-L', 'SLG', 'L-L-L', 'L-L-L-G', 'Line fault', 'DLG'],\n",
       "      dtype=object)"
      ]
     },
     "execution_count": 85,
     "metadata": {},
     "output_type": "execute_result"
    }
   ],
   "source": [
    "df[\"Type of Fault\"].unique()"
   ]
  },
  {
   "cell_type": "code",
   "execution_count": 86,
   "id": "3ae993aa",
   "metadata": {},
   "outputs": [
    {
     "data": {
      "text/plain": [
       "array(['No fault', 'L23', 'L34', 'L45', 'L12', 'L24', 'L25', 'L13'],\n",
       "      dtype=object)"
      ]
     },
     "execution_count": 86,
     "metadata": {},
     "output_type": "execute_result"
    }
   ],
   "source": [
    "df[\"Fault Location\"].unique()"
   ]
  },
  {
   "cell_type": "code",
   "execution_count": 87,
   "id": "7707e88a",
   "metadata": {},
   "outputs": [],
   "source": [
    "X = df.drop([\"Type of Fault\",\"Fault Location\"],axis=\"columns\")"
   ]
  },
  {
   "cell_type": "code",
   "execution_count": 88,
   "id": "1ae1b606",
   "metadata": {},
   "outputs": [],
   "source": [
    "Y1 = df[\"Type of Fault\"]\n",
    "Y2 = df[\"Fault Location\"]"
   ]
  },
  {
   "cell_type": "code",
   "execution_count": 89,
   "id": "bd9888c7",
   "metadata": {},
   "outputs": [],
   "source": [
    "X_train,X_test,Y_train,Y_test = train_test_split(X,Y1,test_size=0.2,random_state=42)"
   ]
  },
  {
   "cell_type": "code",
   "execution_count": 91,
   "id": "0e8ed740",
   "metadata": {},
   "outputs": [
    {
     "data": {
      "text/plain": [
       "1640      No fault\n",
       "59865     No fault\n",
       "97074     No fault\n",
       "17062     No fault\n",
       "57475     No fault\n",
       "            ...   \n",
       "76820     No fault\n",
       "110268    No fault\n",
       "103694    No fault\n",
       "860       No fault\n",
       "15795     No fault\n",
       "Name: Type of Fault, Length: 92628, dtype: object"
      ]
     },
     "execution_count": 91,
     "metadata": {},
     "output_type": "execute_result"
    }
   ],
   "source": [
    "Y_train"
   ]
  },
  {
   "cell_type": "code",
   "execution_count": 92,
   "id": "be40fbb5",
   "metadata": {},
   "outputs": [],
   "source": [
    "from sklearn import preprocessing as pre"
   ]
  },
  {
   "cell_type": "code",
   "execution_count": 93,
   "id": "518a50ab",
   "metadata": {},
   "outputs": [],
   "source": [
    "encoder = pre.LabelEncoder()"
   ]
  },
  {
   "cell_type": "code",
   "execution_count": 94,
   "id": "935a40c1",
   "metadata": {},
   "outputs": [],
   "source": [
    "Y_train1 = encoder.fit_transform(Y_train)\n",
    "Y_test1 = encoder.fit_transform(Y_test)"
   ]
  },
  {
   "cell_type": "code",
   "execution_count": 95,
   "id": "ca2f21a0",
   "metadata": {},
   "outputs": [
    {
     "data": {
      "text/plain": [
       "array([5, 6, 1, 0, 4, 2, 3])"
      ]
     },
     "execution_count": 95,
     "metadata": {},
     "output_type": "execute_result"
    }
   ],
   "source": [
    "pd.Series(Y_train1).unique()"
   ]
  },
  {
   "cell_type": "code",
   "execution_count": 96,
   "id": "bf7a89da",
   "metadata": {},
   "outputs": [],
   "source": [
    "Y_train_original = Y_train\n",
    "Y_test_original = Y_test"
   ]
  },
  {
   "cell_type": "code",
   "execution_count": 97,
   "id": "74da1a65",
   "metadata": {},
   "outputs": [
    {
     "data": {
      "text/plain": [
       "1640      No fault\n",
       "59865     No fault\n",
       "97074     No fault\n",
       "17062     No fault\n",
       "57475     No fault\n",
       "            ...   \n",
       "76820     No fault\n",
       "110268    No fault\n",
       "103694    No fault\n",
       "860       No fault\n",
       "15795     No fault\n",
       "Name: Type of Fault, Length: 92628, dtype: object"
      ]
     },
     "execution_count": 97,
     "metadata": {},
     "output_type": "execute_result"
    }
   ],
   "source": [
    "Y_train"
   ]
  },
  {
   "cell_type": "code",
   "execution_count": 98,
   "id": "11d9b543",
   "metadata": {},
   "outputs": [
    {
     "data": {
      "text/plain": [
       "array(['L-L-L-G', 'L-L', 'No fault', 'L-L-L', 'SLG', 'Line fault', 'DLG'],\n",
       "      dtype=object)"
      ]
     },
     "execution_count": 98,
     "metadata": {},
     "output_type": "execute_result"
    }
   ],
   "source": [
    "Y_test.unique()"
   ]
  },
  {
   "cell_type": "code",
   "execution_count": 99,
   "id": "7a35a371",
   "metadata": {},
   "outputs": [
    {
     "data": {
      "text/plain": [
       "array(['No fault', 'SLG', 'L-L', 'DLG', 'Line fault', 'L-L-L', 'L-L-L-G'],\n",
       "      dtype=object)"
      ]
     },
     "execution_count": 99,
     "metadata": {},
     "output_type": "execute_result"
    }
   ],
   "source": [
    "Y_train_original.unique()"
   ]
  },
  {
   "cell_type": "code",
   "execution_count": 100,
   "id": "b86711e7",
   "metadata": {},
   "outputs": [
    {
     "data": {
      "text/plain": [
       "30309    No fault\n",
       "Name: Type of Fault, dtype: object"
      ]
     },
     "execution_count": 100,
     "metadata": {},
     "output_type": "execute_result"
    }
   ],
   "source": [
    "Y_train.sample()"
   ]
  },
  {
   "cell_type": "code",
   "execution_count": 101,
   "id": "c9fe1b3e",
   "metadata": {},
   "outputs": [
    {
     "data": {
      "text/plain": [
       "91999    No fault\n",
       "Name: Type of Fault, dtype: object"
      ]
     },
     "execution_count": 101,
     "metadata": {},
     "output_type": "execute_result"
    }
   ],
   "source": [
    "Y_train_original.sample()"
   ]
  },
  {
   "cell_type": "code",
   "execution_count": 102,
   "id": "d46f7fb0",
   "metadata": {},
   "outputs": [
    {
     "data": {
      "text/plain": [
       "array(['No fault', 'SLG', 'L-L', 'DLG', 'Line fault', 'L-L-L', 'L-L-L-G'],\n",
       "      dtype=object)"
      ]
     },
     "execution_count": 102,
     "metadata": {},
     "output_type": "execute_result"
    }
   ],
   "source": [
    "Y_train.unique()"
   ]
  },
  {
   "cell_type": "code",
   "execution_count": 103,
   "id": "403790ed",
   "metadata": {},
   "outputs": [
    {
     "data": {
      "text/html": [
       "<div>\n",
       "<style scoped>\n",
       "    .dataframe tbody tr th:only-of-type {\n",
       "        vertical-align: middle;\n",
       "    }\n",
       "\n",
       "    .dataframe tbody tr th {\n",
       "        vertical-align: top;\n",
       "    }\n",
       "\n",
       "    .dataframe thead th {\n",
       "        text-align: right;\n",
       "    }\n",
       "</style>\n",
       "<table border=\"1\" class=\"dataframe\">\n",
       "  <thead>\n",
       "    <tr style=\"text-align: right;\">\n",
       "      <th>col_0</th>\n",
       "      <th>count</th>\n",
       "    </tr>\n",
       "    <tr>\n",
       "      <th>IaL12</th>\n",
       "      <th></th>\n",
       "    </tr>\n",
       "  </thead>\n",
       "  <tbody>\n",
       "    <tr>\n",
       "      <th>-8831240.0</th>\n",
       "      <td>1</td>\n",
       "    </tr>\n",
       "    <tr>\n",
       "      <th>-8551869.0</th>\n",
       "      <td>1</td>\n",
       "    </tr>\n",
       "    <tr>\n",
       "      <th>-8501608.0</th>\n",
       "      <td>1</td>\n",
       "    </tr>\n",
       "    <tr>\n",
       "      <th>-8490112.0</th>\n",
       "      <td>1</td>\n",
       "    </tr>\n",
       "    <tr>\n",
       "      <th>-8214118.5</th>\n",
       "      <td>2</td>\n",
       "    </tr>\n",
       "    <tr>\n",
       "      <th>...</th>\n",
       "      <td>...</td>\n",
       "    </tr>\n",
       "    <tr>\n",
       "      <th>8063022.5</th>\n",
       "      <td>1</td>\n",
       "    </tr>\n",
       "    <tr>\n",
       "      <th>8066103.5</th>\n",
       "      <td>1</td>\n",
       "    </tr>\n",
       "    <tr>\n",
       "      <th>8346215.0</th>\n",
       "      <td>1</td>\n",
       "    </tr>\n",
       "    <tr>\n",
       "      <th>8441609.0</th>\n",
       "      <td>1</td>\n",
       "    </tr>\n",
       "    <tr>\n",
       "      <th>8444127.0</th>\n",
       "      <td>1</td>\n",
       "    </tr>\n",
       "  </tbody>\n",
       "</table>\n",
       "<p>66681 rows × 1 columns</p>\n",
       "</div>"
      ],
      "text/plain": [
       "col_0       count\n",
       "IaL12            \n",
       "-8831240.0      1\n",
       "-8551869.0      1\n",
       "-8501608.0      1\n",
       "-8490112.0      1\n",
       "-8214118.5      2\n",
       "...           ...\n",
       " 8063022.5      1\n",
       " 8066103.5      1\n",
       " 8346215.0      1\n",
       " 8441609.0      1\n",
       " 8444127.0      1\n",
       "\n",
       "[66681 rows x 1 columns]"
      ]
     },
     "execution_count": 103,
     "metadata": {},
     "output_type": "execute_result"
    }
   ],
   "source": [
    "train_outcome = pd.crosstab(index = X_train[\"IaL12\"],columns=\"count\")\n",
    "train_outcome"
   ]
  },
  {
   "cell_type": "code",
   "execution_count": 104,
   "id": "0ad9af54",
   "metadata": {},
   "outputs": [],
   "source": [
    "from sklearn.preprocessing import StandardScaler\n",
    "scaler = StandardScaler()"
   ]
  },
  {
   "cell_type": "code",
   "execution_count": 105,
   "id": "ddaa15d5",
   "metadata": {},
   "outputs": [],
   "source": [
    "X_train_scaled = scaler.fit_transform(X_train)"
   ]
  },
  {
   "cell_type": "code",
   "execution_count": 106,
   "id": "a094043e",
   "metadata": {},
   "outputs": [
    {
     "data": {
      "text/plain": [
       "(23157, 43)"
      ]
     },
     "execution_count": 106,
     "metadata": {},
     "output_type": "execute_result"
    }
   ],
   "source": [
    "X_test_scaled = scaler.fit_transform(X_test)\n",
    "X_test.shape"
   ]
  },
  {
   "cell_type": "code",
   "execution_count": 107,
   "id": "19b4b1ac",
   "metadata": {},
   "outputs": [
    {
     "name": "stdout",
     "output_type": "stream",
     "text": [
      "Range of training set before standardization 8534860.0 - -8831240.0\n",
      "Range of training set after standardization214.16712131477456 - -185.57635330616554\n"
     ]
    }
   ],
   "source": [
    "print(\"Range of training set before standardization \"+str(X_train.max().max())+\" - \"+str(X_train.min().min()))\n",
    "print(\"Range of training set after standardization\"+str(X_train_scaled.max().max())+\" - \"+str(X_train_scaled.min().min()))"
   ]
  },
  {
   "cell_type": "code",
   "execution_count": 108,
   "id": "a550efa6",
   "metadata": {},
   "outputs": [],
   "source": [
    "rf_model = RandomForestClassifier(n_estimators=100, random_state=42)"
   ]
  },
  {
   "cell_type": "code",
   "execution_count": 109,
   "id": "10b86779",
   "metadata": {},
   "outputs": [
    {
     "data": {
      "text/html": [
       "<style>#sk-container-id-4 {color: black;background-color: white;}#sk-container-id-4 pre{padding: 0;}#sk-container-id-4 div.sk-toggleable {background-color: white;}#sk-container-id-4 label.sk-toggleable__label {cursor: pointer;display: block;width: 100%;margin-bottom: 0;padding: 0.3em;box-sizing: border-box;text-align: center;}#sk-container-id-4 label.sk-toggleable__label-arrow:before {content: \"▸\";float: left;margin-right: 0.25em;color: #696969;}#sk-container-id-4 label.sk-toggleable__label-arrow:hover:before {color: black;}#sk-container-id-4 div.sk-estimator:hover label.sk-toggleable__label-arrow:before {color: black;}#sk-container-id-4 div.sk-toggleable__content {max-height: 0;max-width: 0;overflow: hidden;text-align: left;background-color: #f0f8ff;}#sk-container-id-4 div.sk-toggleable__content pre {margin: 0.2em;color: black;border-radius: 0.25em;background-color: #f0f8ff;}#sk-container-id-4 input.sk-toggleable__control:checked~div.sk-toggleable__content {max-height: 200px;max-width: 100%;overflow: auto;}#sk-container-id-4 input.sk-toggleable__control:checked~label.sk-toggleable__label-arrow:before {content: \"▾\";}#sk-container-id-4 div.sk-estimator input.sk-toggleable__control:checked~label.sk-toggleable__label {background-color: #d4ebff;}#sk-container-id-4 div.sk-label input.sk-toggleable__control:checked~label.sk-toggleable__label {background-color: #d4ebff;}#sk-container-id-4 input.sk-hidden--visually {border: 0;clip: rect(1px 1px 1px 1px);clip: rect(1px, 1px, 1px, 1px);height: 1px;margin: -1px;overflow: hidden;padding: 0;position: absolute;width: 1px;}#sk-container-id-4 div.sk-estimator {font-family: monospace;background-color: #f0f8ff;border: 1px dotted black;border-radius: 0.25em;box-sizing: border-box;margin-bottom: 0.5em;}#sk-container-id-4 div.sk-estimator:hover {background-color: #d4ebff;}#sk-container-id-4 div.sk-parallel-item::after {content: \"\";width: 100%;border-bottom: 1px solid gray;flex-grow: 1;}#sk-container-id-4 div.sk-label:hover label.sk-toggleable__label {background-color: #d4ebff;}#sk-container-id-4 div.sk-serial::before {content: \"\";position: absolute;border-left: 1px solid gray;box-sizing: border-box;top: 0;bottom: 0;left: 50%;z-index: 0;}#sk-container-id-4 div.sk-serial {display: flex;flex-direction: column;align-items: center;background-color: white;padding-right: 0.2em;padding-left: 0.2em;position: relative;}#sk-container-id-4 div.sk-item {position: relative;z-index: 1;}#sk-container-id-4 div.sk-parallel {display: flex;align-items: stretch;justify-content: center;background-color: white;position: relative;}#sk-container-id-4 div.sk-item::before, #sk-container-id-4 div.sk-parallel-item::before {content: \"\";position: absolute;border-left: 1px solid gray;box-sizing: border-box;top: 0;bottom: 0;left: 50%;z-index: -1;}#sk-container-id-4 div.sk-parallel-item {display: flex;flex-direction: column;z-index: 1;position: relative;background-color: white;}#sk-container-id-4 div.sk-parallel-item:first-child::after {align-self: flex-end;width: 50%;}#sk-container-id-4 div.sk-parallel-item:last-child::after {align-self: flex-start;width: 50%;}#sk-container-id-4 div.sk-parallel-item:only-child::after {width: 0;}#sk-container-id-4 div.sk-dashed-wrapped {border: 1px dashed gray;margin: 0 0.4em 0.5em 0.4em;box-sizing: border-box;padding-bottom: 0.4em;background-color: white;}#sk-container-id-4 div.sk-label label {font-family: monospace;font-weight: bold;display: inline-block;line-height: 1.2em;}#sk-container-id-4 div.sk-label-container {text-align: center;}#sk-container-id-4 div.sk-container {/* jupyter's `normalize.less` sets `[hidden] { display: none; }` but bootstrap.min.css set `[hidden] { display: none !important; }` so we also need the `!important` here to be able to override the default hidden behavior on the sphinx rendered scikit-learn.org. See: https://github.com/scikit-learn/scikit-learn/issues/21755 */display: inline-block !important;position: relative;}#sk-container-id-4 div.sk-text-repr-fallback {display: none;}</style><div id=\"sk-container-id-4\" class=\"sk-top-container\"><div class=\"sk-text-repr-fallback\"><pre>RandomForestClassifier(random_state=42)</pre><b>In a Jupyter environment, please rerun this cell to show the HTML representation or trust the notebook. <br />On GitHub, the HTML representation is unable to render, please try loading this page with nbviewer.org.</b></div><div class=\"sk-container\" hidden><div class=\"sk-item\"><div class=\"sk-estimator sk-toggleable\"><input class=\"sk-toggleable__control sk-hidden--visually\" id=\"sk-estimator-id-4\" type=\"checkbox\" checked><label for=\"sk-estimator-id-4\" class=\"sk-toggleable__label sk-toggleable__label-arrow\">RandomForestClassifier</label><div class=\"sk-toggleable__content\"><pre>RandomForestClassifier(random_state=42)</pre></div></div></div></div></div>"
      ],
      "text/plain": [
       "RandomForestClassifier(random_state=42)"
      ]
     },
     "execution_count": 109,
     "metadata": {},
     "output_type": "execute_result"
    }
   ],
   "source": [
    "rf_model.fit(X_train_scaled,Y_train_original)"
   ]
  },
  {
   "cell_type": "code",
   "execution_count": 110,
   "id": "8994d808",
   "metadata": {},
   "outputs": [],
   "source": [
    "y_pred = rf_model.predict(X_test_scaled)"
   ]
  },
  {
   "cell_type": "code",
   "execution_count": 111,
   "id": "c79d56ce",
   "metadata": {},
   "outputs": [],
   "source": [
    "from sklearn.metrics import classification_report, accuracy_score"
   ]
  },
  {
   "cell_type": "code",
   "execution_count": 112,
   "id": "c4b9ee49",
   "metadata": {},
   "outputs": [],
   "source": [
    "accuracy = accuracy_score(Y_test_original,y_pred)"
   ]
  },
  {
   "cell_type": "code",
   "execution_count": 113,
   "id": "765913e4",
   "metadata": {},
   "outputs": [
    {
     "data": {
      "text/plain": [
       "0.9666623483180032"
      ]
     },
     "execution_count": 113,
     "metadata": {},
     "output_type": "execute_result"
    }
   ],
   "source": [
    "accuracy"
   ]
  },
  {
   "cell_type": "code",
   "execution_count": 114,
   "id": "eed56c76",
   "metadata": {
    "scrolled": true
   },
   "outputs": [
    {
     "name": "stdout",
     "output_type": "stream",
     "text": [
      "              precision    recall  f1-score   support\n",
      "\n",
      "         DLG       0.85      0.92      0.88       700\n",
      "         L-L       0.88      0.91      0.89       664\n",
      "       L-L-L       0.60      0.67      0.63       297\n",
      "     L-L-L-G       0.46      0.30      0.36       205\n",
      "  Line fault       1.00      0.08      0.14       290\n",
      "    No fault       1.00      1.00      1.00     20454\n",
      "         SLG       0.60      0.89      0.72       547\n",
      "\n",
      "    accuracy                           0.97     23157\n",
      "   macro avg       0.77      0.68      0.66     23157\n",
      "weighted avg       0.97      0.97      0.96     23157\n",
      "\n"
     ]
    }
   ],
   "source": [
    "print(classification_report(Y_test_original,y_pred))"
   ]
  },
  {
   "cell_type": "markdown",
   "id": "66b33cb2",
   "metadata": {},
   "source": [
    "## Class Imbalance\n",
    "## Other metrics\n",
    "## Overfitting\n",
    "## Domain Specific Needs (In critical systems like power transmission lines, even a small number of undetected faults can have serious consequences. Thus, a high recall for fault types might be more important than accuracy.)"
   ]
  },
  {
   "cell_type": "code",
   "execution_count": 115,
   "id": "5b53f65e",
   "metadata": {},
   "outputs": [
    {
     "name": "stdout",
     "output_type": "stream",
     "text": [
      "[[  641    14     0     0     0     6    39]\n",
      " [   22   603     0     1     0    11    27]\n",
      " [   10     4   199    69     0     5    10]\n",
      " [    4     2   126    61     0     2    10]\n",
      " [   12    39     0     0    22    14   203]\n",
      " [   28    15     7     2     0 20371    31]\n",
      " [   39     8     0     0     0    12   488]]\n"
     ]
    }
   ],
   "source": [
    "from sklearn.metrics import confusion_matrix\n",
    "cm = confusion_matrix(Y_test_original, y_pred,labels=rf_model.classes_)\n",
    "print(cm)"
   ]
  },
  {
   "cell_type": "code",
   "execution_count": 129,
   "id": "d9c48a41",
   "metadata": {},
   "outputs": [
    {
     "data": {
      "image/png": "[encoded data removed]",
      "text/plain": [
       "<Figure size 576x576 with 2 Axes>"
      ]
     },
     "metadata": {
      "needs_background": "light"
     },
     "output_type": "display_data"
    }
   ],
   "source": [
    "import matplotlib.pyplot as plt\n",
    "plt.figure(figsize=(8,8))\n",
    "from sklearn.metrics import ConfusionMatrixDisplay\n",
    "disp = ConfusionMatrixDisplay(confusion_matrix=cm,\n",
    "                              display_labels=rf_model.classes_)\n",
    "disp.plot(cmap=\"Blues\",ax=plt.gca())\n",
    "plt.show()"
   ]
  },
  {
   "cell_type": "code",
   "execution_count": 150,
   "id": "5aa78058",
   "metadata": {},
   "outputs": [],
   "source": [
    "class_counts = Y_train_original.value_counts()"
   ]
  },
  {
   "cell_type": "code",
   "execution_count": 152,
   "id": "be626842",
   "metadata": {},
   "outputs": [
    {
     "data": {
      "image/png": "[encoded data removed]",
      "text/plain": [
       "<Figure size 432x288 with 1 Axes>"
      ]
     },
     "metadata": {
      "needs_background": "light"
     },
     "output_type": "display_data"
    }
   ],
   "source": [
    "class_counts.plot(kind='bar',color='skyblue',title='Count of samples in each class')\n",
    "plt.xlabel('Class')\n",
    "plt.ylabel('Number of samples')\n",
    "plt.show()"
   ]
  }
 ],
 "metadata": {
  "kernelspec": {
   "display_name": "Python 3 (ipykernel)",
   "language": "python",
   "name": "python3"
  },
  "language_info": {
   "codemirror_mode": {
    "name": "ipython",
    "version": 3
   },
   "file_extension": ".py",
   "mimetype": "text/x-python",
   "name": "python",
   "nbconvert_exporter": "python",
   "pygments_lexer": "ipython3",
   "version": "3.9.7"
  }
 },
 "nbformat": 4,
 "nbformat_minor": 5
}
