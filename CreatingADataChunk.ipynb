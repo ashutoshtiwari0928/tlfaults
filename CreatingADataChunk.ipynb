{
 "cells": [
  {
   "cell_type": "code",
   "execution_count": 1,
   "id": "c62a8822",
   "metadata": {},
   "outputs": [],
   "source": [
    "import pandas as pd\n",
    "import sys"
   ]
  },
  {
   "cell_type": "code",
   "execution_count": 2,
   "id": "cac4c597",
   "metadata": {},
   "outputs": [],
   "source": [
    "df = pd.read_excel(\"TLFaultDataset.xlsx\")"
   ]
  },
  {
   "cell_type": "code",
   "execution_count": 3,
   "id": "c1ec5b90",
   "metadata": {},
   "outputs": [
    {
     "data": {
      "text/plain": [
       "(578923, 45)"
      ]
     },
     "execution_count": 3,
     "metadata": {},
     "output_type": "execute_result"
    }
   ],
   "source": [
    "df.shape"
   ]
  },
  {
   "cell_type": "code",
   "execution_count": 4,
   "id": "ead1778a",
   "metadata": {},
   "outputs": [],
   "source": [
    "sampledf = df.sample(frac=0.2,replace=True,random_state=1)"
   ]
  },
  {
   "cell_type": "code",
   "execution_count": 5,
   "id": "bbdb5d88",
   "metadata": {},
   "outputs": [
    {
     "data": {
      "text/plain": [
       "(115785, 45)"
      ]
     },
     "execution_count": 5,
     "metadata": {},
     "output_type": "execute_result"
    }
   ],
   "source": [
    "sampledf.shape"
   ]
  },
  {
   "cell_type": "code",
   "execution_count": 6,
   "id": "95270eb4",
   "metadata": {},
   "outputs": [],
   "source": [
    "df.to_csv(\"TLFaultDataset.csv\",index = None,header=True)"
   ]
  },
  {
   "cell_type": "code",
   "execution_count": 5,
   "id": "ce56368a",
   "metadata": {},
   "outputs": [
    {
     "data": {
      "text/html": [
       "<div>\n",
       "<style scoped>\n",
       "    .dataframe tbody tr th:only-of-type {\n",
       "        vertical-align: middle;\n",
       "    }\n",
       "\n",
       "    .dataframe tbody tr th {\n",
       "        vertical-align: top;\n",
       "    }\n",
       "\n",
       "    .dataframe thead th {\n",
       "        text-align: right;\n",
       "    }\n",
       "</style>\n",
       "<table border=\"1\" class=\"dataframe\">\n",
       "  <thead>\n",
       "    <tr style=\"text-align: right;\">\n",
       "      <th></th>\n",
       "      <th>Number</th>\n",
       "      <th>IaL12</th>\n",
       "      <th>IbL12</th>\n",
       "      <th>IcL12</th>\n",
       "      <th>Ia13</th>\n",
       "      <th>Ib13</th>\n",
       "      <th>Ic13</th>\n",
       "      <th>Ia23</th>\n",
       "      <th>Ib23</th>\n",
       "      <th>Ic23</th>\n",
       "      <th>...</th>\n",
       "      <th>Vb25</th>\n",
       "      <th>Vc25</th>\n",
       "      <th>Va34</th>\n",
       "      <th>Vb34</th>\n",
       "      <th>Vc34</th>\n",
       "      <th>Va45</th>\n",
       "      <th>Vb45</th>\n",
       "      <th>Vc45</th>\n",
       "      <th>Type of Fault</th>\n",
       "      <th>Fault Location</th>\n",
       "    </tr>\n",
       "  </thead>\n",
       "  <tbody>\n",
       "    <tr>\n",
       "      <th>128037</th>\n",
       "      <td>0.160758</td>\n",
       "      <td>-5492.286743</td>\n",
       "      <td>6258.301006</td>\n",
       "      <td>-767.072057</td>\n",
       "      <td>-6508.691978</td>\n",
       "      <td>8058.950055</td>\n",
       "      <td>-1550.258077</td>\n",
       "      <td>-2153.559977</td>\n",
       "      <td>3078.167640</td>\n",
       "      <td>-924.607665</td>\n",
       "      <td>...</td>\n",
       "      <td>7990.522084</td>\n",
       "      <td>-1876.353697</td>\n",
       "      <td>493.728150</td>\n",
       "      <td>-429.371273</td>\n",
       "      <td>-64.356890</td>\n",
       "      <td>-6.114168e+03</td>\n",
       "      <td>7990.522084</td>\n",
       "      <td>-1876.353697</td>\n",
       "      <td>No fault</td>\n",
       "      <td>No fault</td>\n",
       "    </tr>\n",
       "    <tr>\n",
       "      <th>491755</th>\n",
       "      <td>0.505802</td>\n",
       "      <td>5485.938194</td>\n",
       "      <td>773.865491</td>\n",
       "      <td>-6259.813862</td>\n",
       "      <td>7211.042169</td>\n",
       "      <td>376.585995</td>\n",
       "      <td>-7587.628164</td>\n",
       "      <td>2840.452575</td>\n",
       "      <td>-223.277850</td>\n",
       "      <td>-2617.174743</td>\n",
       "      <td>...</td>\n",
       "      <td>0.158811</td>\n",
       "      <td>-7237.568293</td>\n",
       "      <td>-346.196455</td>\n",
       "      <td>-182.290308</td>\n",
       "      <td>528.486767</td>\n",
       "      <td>7.237409e+03</td>\n",
       "      <td>0.158811</td>\n",
       "      <td>-7237.568293</td>\n",
       "      <td>No fault</td>\n",
       "      <td>No fault</td>\n",
       "    </tr>\n",
       "    <tr>\n",
       "      <th>470924</th>\n",
       "      <td>0.791913</td>\n",
       "      <td>32998.264113</td>\n",
       "      <td>-8657.634735</td>\n",
       "      <td>-24655.597248</td>\n",
       "      <td>-376.315969</td>\n",
       "      <td>7587.503648</td>\n",
       "      <td>-7211.187768</td>\n",
       "      <td>223.267178</td>\n",
       "      <td>2617.058947</td>\n",
       "      <td>-2840.326167</td>\n",
       "      <td>...</td>\n",
       "      <td>7237.398203</td>\n",
       "      <td>-7237.376338</td>\n",
       "      <td>182.314204</td>\n",
       "      <td>-528.501457</td>\n",
       "      <td>346.187315</td>\n",
       "      <td>-2.184740e-02</td>\n",
       "      <td>7237.398203</td>\n",
       "      <td>-7237.376338</td>\n",
       "      <td>No fault</td>\n",
       "      <td>No fault</td>\n",
       "    </tr>\n",
       "    <tr>\n",
       "      <th>491263</th>\n",
       "      <td>0.413468</td>\n",
       "      <td>-6324.020229</td>\n",
       "      <td>938.666518</td>\n",
       "      <td>5385.609787</td>\n",
       "      <td>-8128.749013</td>\n",
       "      <td>1762.396383</td>\n",
       "      <td>6366.352630</td>\n",
       "      <td>-3095.163616</td>\n",
       "      <td>1000.790948</td>\n",
       "      <td>2094.372684</td>\n",
       "      <td>...</td>\n",
       "      <td>2081.242535</td>\n",
       "      <td>5968.902132</td>\n",
       "      <td>437.371256</td>\n",
       "      <td>50.849631</td>\n",
       "      <td>-488.220885</td>\n",
       "      <td>-8.050145e+03</td>\n",
       "      <td>2081.242535</td>\n",
       "      <td>5968.902132</td>\n",
       "      <td>No fault</td>\n",
       "      <td>No fault</td>\n",
       "    </tr>\n",
       "    <tr>\n",
       "      <th>371403</th>\n",
       "      <td>0.983131</td>\n",
       "      <td>-386.440159</td>\n",
       "      <td>-5711.783825</td>\n",
       "      <td>6095.821766</td>\n",
       "      <td>-1069.326908</td>\n",
       "      <td>-6813.732878</td>\n",
       "      <td>7883.059786</td>\n",
       "      <td>-751.601931</td>\n",
       "      <td>-2281.430361</td>\n",
       "      <td>3033.032296</td>\n",
       "      <td>...</td>\n",
       "      <td>-6428.433156</td>\n",
       "      <td>7838.403914</td>\n",
       "      <td>-94.590894</td>\n",
       "      <td>504.986390</td>\n",
       "      <td>-410.395482</td>\n",
       "      <td>-1.409971e+03</td>\n",
       "      <td>-6428.433156</td>\n",
       "      <td>7838.403914</td>\n",
       "      <td>No fault</td>\n",
       "      <td>No fault</td>\n",
       "    </tr>\n",
       "    <tr>\n",
       "      <th>...</th>\n",
       "      <td>...</td>\n",
       "      <td>...</td>\n",
       "      <td>...</td>\n",
       "      <td>...</td>\n",
       "      <td>...</td>\n",
       "      <td>...</td>\n",
       "      <td>...</td>\n",
       "      <td>...</td>\n",
       "      <td>...</td>\n",
       "      <td>...</td>\n",
       "      <td>...</td>\n",
       "      <td>...</td>\n",
       "      <td>...</td>\n",
       "      <td>...</td>\n",
       "      <td>...</td>\n",
       "      <td>...</td>\n",
       "      <td>...</td>\n",
       "      <td>...</td>\n",
       "      <td>...</td>\n",
       "      <td>...</td>\n",
       "      <td>...</td>\n",
       "    </tr>\n",
       "    <tr>\n",
       "      <th>126684</th>\n",
       "      <td>0.017296</td>\n",
       "      <td>1743.212466</td>\n",
       "      <td>-6587.341713</td>\n",
       "      <td>4844.103329</td>\n",
       "      <td>1599.535228</td>\n",
       "      <td>-8075.593269</td>\n",
       "      <td>6476.056130</td>\n",
       "      <td>232.397201</td>\n",
       "      <td>-2844.588379</td>\n",
       "      <td>-21775.239904</td>\n",
       "      <td>...</td>\n",
       "      <td>-7762.811807</td>\n",
       "      <td>5340.155667</td>\n",
       "      <td>-252.713025</td>\n",
       "      <td>536.451669</td>\n",
       "      <td>4137.902717</td>\n",
       "      <td>1.200189e+03</td>\n",
       "      <td>-7762.811807</td>\n",
       "      <td>5340.155667</td>\n",
       "      <td>SLG</td>\n",
       "      <td>L13</td>\n",
       "    </tr>\n",
       "    <tr>\n",
       "      <th>71768</th>\n",
       "      <td>0.869536</td>\n",
       "      <td>6090.855320</td>\n",
       "      <td>-5713.767773</td>\n",
       "      <td>-377.256309</td>\n",
       "      <td>7344.292804</td>\n",
       "      <td>-7467.215055</td>\n",
       "      <td>122.922251</td>\n",
       "      <td>2509.430476</td>\n",
       "      <td>-2916.403858</td>\n",
       "      <td>406.973370</td>\n",
       "      <td>...</td>\n",
       "      <td>-7469.591474</td>\n",
       "      <td>488.412397</td>\n",
       "      <td>-522.144139</td>\n",
       "      <td>369.607065</td>\n",
       "      <td>152.537069</td>\n",
       "      <td>6.981179e+03</td>\n",
       "      <td>-7469.591474</td>\n",
       "      <td>488.412397</td>\n",
       "      <td>No fault</td>\n",
       "      <td>No fault</td>\n",
       "    </tr>\n",
       "    <tr>\n",
       "      <th>484498</th>\n",
       "      <td>0.144692</td>\n",
       "      <td>-6261.966843</td>\n",
       "      <td>5485.083637</td>\n",
       "      <td>776.883219</td>\n",
       "      <td>-7588.745224</td>\n",
       "      <td>7209.739813</td>\n",
       "      <td>379.005412</td>\n",
       "      <td>-2617.890760</td>\n",
       "      <td>2840.195402</td>\n",
       "      <td>-222.304629</td>\n",
       "      <td>...</td>\n",
       "      <td>7236.354672</td>\n",
       "      <td>2.593651</td>\n",
       "      <td>528.539087</td>\n",
       "      <td>-346.090732</td>\n",
       "      <td>-182.448358</td>\n",
       "      <td>-7.238948e+03</td>\n",
       "      <td>7236.354672</td>\n",
       "      <td>2.593651</td>\n",
       "      <td>No fault</td>\n",
       "      <td>No fault</td>\n",
       "    </tr>\n",
       "    <tr>\n",
       "      <th>270207</th>\n",
       "      <td>0.458580</td>\n",
       "      <td>565947.337053</td>\n",
       "      <td>-281701.456959</td>\n",
       "      <td>-284150.721043</td>\n",
       "      <td>-376.873113</td>\n",
       "      <td>7587.753321</td>\n",
       "      <td>-7210.880181</td>\n",
       "      <td>222.905907</td>\n",
       "      <td>2617.385536</td>\n",
       "      <td>-2840.291310</td>\n",
       "      <td>...</td>\n",
       "      <td>7237.626103</td>\n",
       "      <td>-7237.626123</td>\n",
       "      <td>182.332337</td>\n",
       "      <td>-528.555402</td>\n",
       "      <td>346.222928</td>\n",
       "      <td>-1.114766e-08</td>\n",
       "      <td>7237.626103</td>\n",
       "      <td>-7237.626123</td>\n",
       "      <td>No fault</td>\n",
       "      <td>No fault</td>\n",
       "    </tr>\n",
       "    <tr>\n",
       "      <th>570370</th>\n",
       "      <td>0.394691</td>\n",
       "      <td>-7013.560333</td>\n",
       "      <td>4498.424938</td>\n",
       "      <td>2515.338886</td>\n",
       "      <td>-7587.425815</td>\n",
       "      <td>7211.277915</td>\n",
       "      <td>376.147900</td>\n",
       "      <td>-2617.185113</td>\n",
       "      <td>2840.430635</td>\n",
       "      <td>-223.245509</td>\n",
       "      <td>...</td>\n",
       "      <td>7237.581043</td>\n",
       "      <td>0.025702</td>\n",
       "      <td>528.581877</td>\n",
       "      <td>-346.203052</td>\n",
       "      <td>-182.378828</td>\n",
       "      <td>-7.237607e+03</td>\n",
       "      <td>7237.581043</td>\n",
       "      <td>0.025702</td>\n",
       "      <td>No fault</td>\n",
       "      <td>No fault</td>\n",
       "    </tr>\n",
       "  </tbody>\n",
       "</table>\n",
       "<p>115785 rows × 45 columns</p>\n",
       "</div>"
      ],
      "text/plain": [
       "          Number          IaL12          IbL12          IcL12         Ia13  \\\n",
       "128037  0.160758   -5492.286743    6258.301006    -767.072057 -6508.691978   \n",
       "491755  0.505802    5485.938194     773.865491   -6259.813862  7211.042169   \n",
       "470924  0.791913   32998.264113   -8657.634735  -24655.597248  -376.315969   \n",
       "491263  0.413468   -6324.020229     938.666518    5385.609787 -8128.749013   \n",
       "371403  0.983131    -386.440159   -5711.783825    6095.821766 -1069.326908   \n",
       "...          ...            ...            ...            ...          ...   \n",
       "126684  0.017296    1743.212466   -6587.341713    4844.103329  1599.535228   \n",
       "71768   0.869536    6090.855320   -5713.767773    -377.256309  7344.292804   \n",
       "484498  0.144692   -6261.966843    5485.083637     776.883219 -7588.745224   \n",
       "270207  0.458580  565947.337053 -281701.456959 -284150.721043  -376.873113   \n",
       "570370  0.394691   -7013.560333    4498.424938    2515.338886 -7587.425815   \n",
       "\n",
       "               Ib13         Ic13         Ia23         Ib23          Ic23  ...  \\\n",
       "128037  8058.950055 -1550.258077 -2153.559977  3078.167640   -924.607665  ...   \n",
       "491755   376.585995 -7587.628164  2840.452575  -223.277850  -2617.174743  ...   \n",
       "470924  7587.503648 -7211.187768   223.267178  2617.058947  -2840.326167  ...   \n",
       "491263  1762.396383  6366.352630 -3095.163616  1000.790948   2094.372684  ...   \n",
       "371403 -6813.732878  7883.059786  -751.601931 -2281.430361   3033.032296  ...   \n",
       "...             ...          ...          ...          ...           ...  ...   \n",
       "126684 -8075.593269  6476.056130   232.397201 -2844.588379 -21775.239904  ...   \n",
       "71768  -7467.215055   122.922251  2509.430476 -2916.403858    406.973370  ...   \n",
       "484498  7209.739813   379.005412 -2617.890760  2840.195402   -222.304629  ...   \n",
       "270207  7587.753321 -7210.880181   222.905907  2617.385536  -2840.291310  ...   \n",
       "570370  7211.277915   376.147900 -2617.185113  2840.430635   -223.245509  ...   \n",
       "\n",
       "               Vb25         Vc25        Va34        Vb34         Vc34  \\\n",
       "128037  7990.522084 -1876.353697  493.728150 -429.371273   -64.356890   \n",
       "491755     0.158811 -7237.568293 -346.196455 -182.290308   528.486767   \n",
       "470924  7237.398203 -7237.376338  182.314204 -528.501457   346.187315   \n",
       "491263  2081.242535  5968.902132  437.371256   50.849631  -488.220885   \n",
       "371403 -6428.433156  7838.403914  -94.590894  504.986390  -410.395482   \n",
       "...             ...          ...         ...         ...          ...   \n",
       "126684 -7762.811807  5340.155667 -252.713025  536.451669  4137.902717   \n",
       "71768  -7469.591474   488.412397 -522.144139  369.607065   152.537069   \n",
       "484498  7236.354672     2.593651  528.539087 -346.090732  -182.448358   \n",
       "270207  7237.626103 -7237.626123  182.332337 -528.555402   346.222928   \n",
       "570370  7237.581043     0.025702  528.581877 -346.203052  -182.378828   \n",
       "\n",
       "                Va45         Vb45         Vc45  Type of Fault  Fault Location  \n",
       "128037 -6.114168e+03  7990.522084 -1876.353697       No fault        No fault  \n",
       "491755  7.237409e+03     0.158811 -7237.568293       No fault        No fault  \n",
       "470924 -2.184740e-02  7237.398203 -7237.376338       No fault        No fault  \n",
       "491263 -8.050145e+03  2081.242535  5968.902132       No fault        No fault  \n",
       "371403 -1.409971e+03 -6428.433156  7838.403914       No fault        No fault  \n",
       "...              ...          ...          ...            ...             ...  \n",
       "126684  1.200189e+03 -7762.811807  5340.155667            SLG             L13  \n",
       "71768   6.981179e+03 -7469.591474   488.412397       No fault        No fault  \n",
       "484498 -7.238948e+03  7236.354672     2.593651       No fault        No fault  \n",
       "270207 -1.114766e-08  7237.626103 -7237.626123       No fault        No fault  \n",
       "570370 -7.237607e+03  7237.581043     0.025702       No fault        No fault  \n",
       "\n",
       "[115785 rows x 45 columns]"
      ]
     },
     "execution_count": 5,
     "metadata": {},
     "output_type": "execute_result"
    }
   ],
   "source": [
    "sampledf"
   ]
  },
  {
   "cell_type": "code",
   "execution_count": 15,
   "id": "554fe30f",
   "metadata": {},
   "outputs": [],
   "source": [
    "attributes = sampledf.drop(['Type of Fault','Fault Location'],axis =1)"
   ]
  },
  {
   "cell_type": "code",
   "execution_count": 16,
   "id": "7e47cce2",
   "metadata": {},
   "outputs": [
    {
     "name": "stdout",
     "output_type": "stream",
     "text": [
      "42608880\n"
     ]
    }
   ],
   "source": [
    "print(sampledf.memory_usage().sum())"
   ]
  },
  {
   "cell_type": "code",
   "execution_count": 17,
   "id": "f3e81a33",
   "metadata": {},
   "outputs": [
    {
     "data": {
      "text/plain": [
       "40756320"
      ]
     },
     "execution_count": 17,
     "metadata": {},
     "output_type": "execute_result"
    }
   ],
   "source": [
    "attributes.memory_usage().sum()"
   ]
  },
  {
   "cell_type": "code",
   "execution_count": 18,
   "id": "3cdbd6df",
   "metadata": {},
   "outputs": [
    {
     "data": {
      "text/plain": [
       "8534860.16232681"
      ]
     },
     "execution_count": 18,
     "metadata": {},
     "output_type": "execute_result"
    }
   ],
   "source": [
    "attributes.to_numpy().max()"
   ]
  },
  {
   "cell_type": "code",
   "execution_count": 19,
   "id": "bef2ed6f",
   "metadata": {},
   "outputs": [
    {
     "data": {
      "text/plain": [
       "-8831239.85370255"
      ]
     },
     "execution_count": 19,
     "metadata": {},
     "output_type": "execute_result"
    }
   ],
   "source": [
    "attributes.to_numpy().min()"
   ]
  },
  {
   "cell_type": "code",
   "execution_count": 20,
   "id": "00bbd104",
   "metadata": {},
   "outputs": [],
   "source": [
    "attributes = attributes.astype('float32')"
   ]
  },
  {
   "cell_type": "code",
   "execution_count": 21,
   "id": "5a57c06d",
   "metadata": {},
   "outputs": [
    {
     "data": {
      "text/plain": [
       "20841300"
      ]
     },
     "execution_count": 21,
     "metadata": {},
     "output_type": "execute_result"
    }
   ],
   "source": [
    "attributes.memory_usage().sum()"
   ]
  },
  {
   "cell_type": "code",
   "execution_count": 27,
   "id": "0659b0c5",
   "metadata": {},
   "outputs": [],
   "source": [
    "faults = sampledf[['Type of Fault','Fault Location']]"
   ]
  },
  {
   "cell_type": "code",
   "execution_count": 30,
   "id": "f174c038",
   "metadata": {},
   "outputs": [
    {
     "data": {
      "text/plain": [
       "(115785, 2)"
      ]
     },
     "execution_count": 30,
     "metadata": {},
     "output_type": "execute_result"
    }
   ],
   "source": [
    "faults.shape"
   ]
  },
  {
   "cell_type": "code",
   "execution_count": 31,
   "id": "713fb671",
   "metadata": {},
   "outputs": [
    {
     "data": {
      "text/plain": [
       "(115785, 45)"
      ]
     },
     "execution_count": 31,
     "metadata": {},
     "output_type": "execute_result"
    }
   ],
   "source": [
    "sampledf.shape"
   ]
  },
  {
   "cell_type": "code",
   "execution_count": 37,
   "id": "a35a3568",
   "metadata": {},
   "outputs": [],
   "source": [
    "data = pd.concat([attributes,faults],axis=1)"
   ]
  },
  {
   "cell_type": "code",
   "execution_count": 39,
   "id": "b05d0dd7",
   "metadata": {},
   "outputs": [
    {
     "data": {
      "text/plain": [
       "(115785, 45)"
      ]
     },
     "execution_count": 39,
     "metadata": {},
     "output_type": "execute_result"
    }
   ],
   "source": [
    "data.shape"
   ]
  },
  {
   "cell_type": "code",
   "execution_count": 40,
   "id": "af92c5bf",
   "metadata": {},
   "outputs": [],
   "source": [
    "data.to_csv(\"OptimizedDataset.csv\",index = None,header=True)"
   ]
  },
  {
   "cell_type": "code",
   "execution_count": null,
   "id": "79756833",
   "metadata": {},
   "outputs": [],
   "source": [
    "sampledf"
   ]
  }
 ],
 "metadata": {
  "kernelspec": {
   "display_name": "Python 3 (ipykernel)",
   "language": "python",
   "name": "python3"
  },
  "language_info": {
   "codemirror_mode": {
    "name": "ipython",
    "version": 3
   },
   "file_extension": ".py",
   "mimetype": "text/x-python",
   "name": "python",
   "nbconvert_exporter": "python",
   "pygments_lexer": "ipython3",
   "version": "3.9.7"
  }
 },
 "nbformat": 4,
 "nbformat_minor": 5
}
